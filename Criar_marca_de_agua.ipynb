{
  "nbformat": 4,
  "nbformat_minor": 0,
  "metadata": {
    "colab": {
      "provenance": [],
      "authorship_tag": "ABX9TyOhpC4jgnsVPFvhAGlYUJIV",
      "include_colab_link": true
    },
    "kernelspec": {
      "name": "python3",
      "display_name": "Python 3"
    },
    "language_info": {
      "name": "python"
    }
  },
  "cells": [
    {
      "cell_type": "markdown",
      "metadata": {
        "id": "view-in-github",
        "colab_type": "text"
      },
      "source": [
        "<a href=\"https://colab.research.google.com/github/SaideOmaer1240/LearnFetch/blob/main/Criar_marca_de_agua.ipynb\" target=\"_parent\"><img src=\"https://colab.research.google.com/assets/colab-badge.svg\" alt=\"Open In Colab\"/></a>"
      ]
    },
    {
      "cell_type": "code",
      "source": [
        "def inserir_marca_dagua(texto):\n",
        "    # Mapeamento de letras do alfabeto português para letras visualmente semelhantes em outros alfabetos\n",
        "    mapeamento = {\n",
        "        'A': 'А',  # Cirílico\n",
        "        'B': 'Β',  # Grego\n",
        "        'C': 'С',  # Cirílico\n",
        "        'D': 'ԁ',  # Cirílico\n",
        "        'E': 'Е',  # Cirílico\n",
        "        'F': 'Ғ',  # Cirílico\n",
        "        'G': 'Ԍ',  # Cirílico\n",
        "        'H': 'Н',  # Cirílico\n",
        "        'I': 'І',  # Cirílico ou Ι (Grego)\n",
        "        'J': 'Ј',  # Cirílico\n",
        "        'K': 'К',  # Cirílico\n",
        "        'L': 'Ꮮ',  # Alfabeto Cherokee\n",
        "        'M': 'М',  # Cirílico\n",
        "        'N': 'Ν',  # Grego ou П (Cirílico)\n",
        "        'O': 'О',  # Cirílico ou Ο (Grego)\n",
        "        'P': 'Р',  # Cirílico\n",
        "        'Q': 'Ԛ',  # Cirílico\n",
        "        'R': 'Я',  # Cirílico\n",
        "        'S': 'Ѕ',  # Cirílico\n",
        "        'T': 'Т',  # Cirílico\n",
        "        'U': 'Ս',  # Armênio\n",
        "        'V': 'Ѵ',  # Cirílico arcaico\n",
        "        'W': 'Ԝ',  # Cirílico\n",
        "        'X': 'Х',  # Cirílico\n",
        "        'Y': 'Ү',  # Cirílico ou Υ (Grego)\n",
        "        'Z': 'Ζ',  # Grego\n",
        "    }\n",
        "\n",
        "    # Função para substituir letras maiúsculas no texto com base no mapeamento\n",
        "    def substituir_letra(letra):\n",
        "        return mapeamento.get(letra.upper(), letra)\n",
        "\n",
        "    # Adiciona a marca d'água ao texto, substituindo apenas as letras maiúsculas\n",
        "    texto_com_marca = []\n",
        "    for letra in texto:\n",
        "        if letra.isupper():\n",
        "            texto_com_marca.append(substituir_letra(letra))\n",
        "        else:\n",
        "            texto_com_marca.append(letra)\n",
        "\n",
        "    texto_com_marca = ''.join(texto_com_marca)\n",
        "\n",
        "    return texto_com_marca\n",
        "\n",
        "# Exemplo de uso\n",
        "texto_original = input(\"Digite o texto: \")\n",
        "texto_com_marca_dagua = inserir_marca_dagua(texto_original)\n",
        "print(f\"Texto original: {texto_original}\")\n",
        "print(f\"Texto com marca d'água: {texto_com_marca_dagua}\")"
      ],
      "metadata": {
        "colab": {
          "base_uri": "https://localhost:8080/"
        },
        "id": "mrumlYPFteMc",
        "outputId": "2c9a3374-65b1-49f8-cfcb-e6eeeb4bca4d"
      },
      "execution_count": null,
      "outputs": [
        {
          "output_type": "stream",
          "name": "stdout",
          "text": [
            "Digite o texto: Claro!  ---  Oi João,  Espero que esteja tudo bem contigo! No mês que vem, vou a um casamento e pensei em te convidar para me acompanhar. Vai ser uma boa oportunidade para nos encontrarmos e nos divertirmos. Se estiveres disponível e interessado, adoraria a tua companhia. Se não puderes ou não quiseres, sem problemas!  Abraço, Saíde\n",
            "Texto original: Claro!  ---  Oi João,  Espero que esteja tudo bem contigo! No mês que vem, vou a um casamento e pensei em te convidar para me acompanhar. Vai ser uma boa oportunidade para nos encontrarmos e nos divertirmos. Se estiveres disponível e interessado, adoraria a tua companhia. Se não puderes ou não quiseres, sem problemas!  Abraço, Saíde\n",
            "Texto com marca d'água: Сlaro!  ---  Оi Јoão,  Еspero que esteja tudo bem contigo! Νo mês que vem, vou a um casamento e pensei em te convidar para me acompanhar. Ѵai ser uma boa oportunidade para nos encontrarmos e nos divertirmos. Ѕe estiveres disponível e interessado, adoraria a tua companhia. Ѕe não puderes ou não quiseres, sem problemas!  Аbraço, Ѕaíde\n"
          ]
        }
      ]
    }
  ]
}